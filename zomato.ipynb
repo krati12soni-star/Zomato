{
 "cells": [
  {
   "cell_type": "code",
   "execution_count": null,
   "id": "bc93f7c2",
   "metadata": {},
   "outputs": [],
   "source": [
    "import pandas as pd\n",
    "import seaborn as sns\n",
    "import numpy as np\n",
    "import matplotlib.pyplot as plt\n",
    "%matplotlib inline"
   ]
  },
  {
   "cell_type": "code",
   "execution_count": null,
   "id": "198d5720",
   "metadata": {},
   "outputs": [],
   "source": [
    "df=pd.read_csv('F:/python/zomato.csv',encoding='latin-1')\n",
    "df"
   ]
  },
  {
   "cell_type": "code",
   "execution_count": null,
   "id": "f4ab9987",
   "metadata": {},
   "outputs": [],
   "source": [
    "df.columns\n"
   ]
  },
  {
   "cell_type": "code",
   "execution_count": null,
   "id": "a55c194b",
   "metadata": {},
   "outputs": [],
   "source": [
    "df.info()"
   ]
  },
  {
   "cell_type": "code",
   "execution_count": null,
   "id": "3d9c654f",
   "metadata": {},
   "outputs": [],
   "source": [
    "df.describe()\n",
    "#these will show int datatype only"
   ]
  },
  {
   "cell_type": "markdown",
   "id": "ea253d62",
   "metadata": {},
   "source": [
    "# Things to find\n",
    "### 1. Missing values\n",
    "### 2. Explore abount numerical variables\n",
    "### 3. Explore about categorical \n",
    "### 4. Finding relatioship bw features"
   ]
  },
  {
   "cell_type": "code",
   "execution_count": null,
   "id": "e685ae61",
   "metadata": {},
   "outputs": [],
   "source": [
    "df.isnull().sum()"
   ]
  },
  {
   "cell_type": "code",
   "execution_count": null,
   "id": "23915291",
   "metadata": {},
   "outputs": [],
   "source": [
    "[features for features in df.columns if df[features].isnull().sum()>0]"
   ]
  },
  {
   "cell_type": "code",
   "execution_count": null,
   "id": "50d4ffc8",
   "metadata": {},
   "outputs": [],
   "source": [
    "sns.heatmap(df.isnull(),yticklabels=False, cbar=False, cmap='viridis')"
   ]
  },
  {
   "cell_type": "code",
   "execution_count": null,
   "id": "196e8951",
   "metadata": {},
   "outputs": [],
   "source": [
    "df_country= pd.read_excel('F:/python/Country-Code.xlsx')\n",
    "df_country.head(2)"
   ]
  },
  {
   "cell_type": "code",
   "execution_count": null,
   "id": "2258c02f",
   "metadata": {},
   "outputs": [],
   "source": [
    "final_df= pd.merge(df,df_country, on='Country Code', how='left')"
   ]
  },
  {
   "cell_type": "code",
   "execution_count": null,
   "id": "22facb7d",
   "metadata": {},
   "outputs": [],
   "source": [
    "final_df.head()"
   ]
  },
  {
   "cell_type": "code",
   "execution_count": null,
   "id": "3b33211e",
   "metadata": {},
   "outputs": [],
   "source": [
    "# to check datatypes\n",
    "final_df.dtypes"
   ]
  },
  {
   "cell_type": "code",
   "execution_count": null,
   "id": "346fb16f",
   "metadata": {},
   "outputs": [],
   "source": [
    "country_name=final_df.Country.value_counts().index"
   ]
  },
  {
   "cell_type": "code",
   "execution_count": null,
   "id": "b508e586",
   "metadata": {},
   "outputs": [],
   "source": [
    "final_df.Country.values"
   ]
  },
  {
   "cell_type": "code",
   "execution_count": null,
   "id": "dc1d4e22",
   "metadata": {},
   "outputs": [],
   "source": [
    "country_value= final_df.Country.value_counts().values"
   ]
  },
  {
   "cell_type": "code",
   "execution_count": null,
   "id": "d8a21e4e",
   "metadata": {},
   "outputs": [],
   "source": [
    "# creating a pie chart\n",
    "plt.pie(country_value[:3], labels=country_name[:3], autopct=\"'%1.3f%%\")\n",
    "plt.show()"
   ]
  },
  {
   "cell_type": "markdown",
   "id": "357a4760",
   "metadata": {},
   "source": [
    "Maximum transactions are fromm india, then US then UK"
   ]
  },
  {
   "cell_type": "code",
   "execution_count": null,
   "id": "85202080",
   "metadata": {},
   "outputs": [],
   "source": [
    "# Numerical variables\n",
    "final_df.columns"
   ]
  },
  {
   "cell_type": "code",
   "execution_count": null,
   "id": "20766295",
   "metadata": {},
   "outputs": [],
   "source": [
    "ratings= final_df.groupby(['Aggregate rating', 'Rating color', 'Rating text']).size().reset_index().rename(columns={0:'Rating count'})"
   ]
  },
  {
   "cell_type": "code",
   "execution_count": null,
   "id": "40f7061c",
   "metadata": {},
   "outputs": [],
   "source": [
    "ratings"
   ]
  },
  {
   "cell_type": "markdown",
   "id": "765c42c1",
   "metadata": {},
   "source": [
    "1. rating 4.5-4.9= excellent\n",
    "2. rating 4.0 -4.4= very good\n",
    "2. rating 3.5 -3.9= good\n",
    "4. rating 2.5 -3.4= Average\n",
    "5. rating 1.8 -2.4=poor"
   ]
  },
  {
   "cell_type": "code",
   "execution_count": null,
   "id": "a5548868",
   "metadata": {},
   "outputs": [],
   "source": [
    "plt.rcParams['figure.figsize']=(12,6)\n",
    "# sns.barplot(x='Aggregate rating', y= 'Rating count', data= ratings)"
   ]
  },
  {
   "cell_type": "code",
   "execution_count": null,
   "id": "c62926f5",
   "metadata": {},
   "outputs": [],
   "source": [
    "sns.barplot(x='Aggregate rating', y= 'Rating count', data= ratings, palette=['white','red','orange','green','green'])\n"
   ]
  },
  {
   "cell_type": "code",
   "execution_count": null,
   "id": "b82ab94d",
   "metadata": {},
   "outputs": [],
   "source": [
    "sns.countplot(x= \"Rating color\", data= ratings, palette=['blue','red','orange','green','green'])"
   ]
  },
  {
   "cell_type": "code",
   "execution_count": null,
   "id": "76ad5318",
   "metadata": {},
   "outputs": [],
   "source": [
    "# final_df[final_df['Aggregate rating'] > 0]['Country'].value_counts().sum() #7403\n",
    "# # final_df[final_df['Aggregate rating'] == 0]['Country'].value_counts().sum() #2148\n",
    "# # total no. of ratings= 9551\n",
    "final_df.groupby(['Aggregate rating','Country']).size().reset_index().head(5)"
   ]
  },
  {
   "cell_type": "code",
   "execution_count": null,
   "id": "704e5a46",
   "metadata": {},
   "outputs": [],
   "source": [
    "final_df[['Country','Currency']].value_counts()"
   ]
  },
  {
   "cell_type": "code",
   "execution_count": null,
   "id": "9ed7cd1a",
   "metadata": {},
   "outputs": [],
   "source": [
    "final_df.columns"
   ]
  },
  {
   "cell_type": "code",
   "execution_count": null,
   "id": "158b7b2f",
   "metadata": {},
   "outputs": [],
   "source": [
    "final_df[['Country','Has Online delivery']].value_counts()\n"
   ]
  },
  {
   "cell_type": "markdown",
   "id": "1af14edf",
   "metadata": {},
   "source": [
    "1. online deliveries are available in india, uae\n"
   ]
  },
  {
   "cell_type": "code",
   "execution_count": null,
   "id": "18e81583",
   "metadata": {},
   "outputs": [],
   "source": [
    "# final_df['City'].value_counts()\n",
    "city_values= final_df.City.value_counts().values\n",
    "city_labels= final_df.City.value_counts().index"
   ]
  },
  {
   "cell_type": "code",
   "execution_count": null,
   "id": "46463bba",
   "metadata": {},
   "outputs": [],
   "source": [
    "# plt.pie(country_value[:3], labels=country_name[:3], autopct=\"'%1.3f%%\")\n",
    "plt.pie(city_values[:5], labels= city_labels[:5], autopct='%1.2f%%')\n",
    "# plt.pie(City)\n",
    "plt.show()"
   ]
  },
  {
   "cell_type": "code",
   "execution_count": null,
   "id": "7e902748",
   "metadata": {},
   "outputs": [],
   "source": [
    "# cuisines\n",
    "final_df['Cuisines'].head(10)"
   ]
  }
 ],
 "metadata": {
  "kernelspec": {
   "display_name": "Python 3",
   "language": "python",
   "name": "python3"
  },
  "language_info": {
   "codemirror_mode": {
    "name": "ipython",
    "version": 3
   },
   "file_extension": ".py",
   "mimetype": "text/x-python",
   "name": "python",
   "nbconvert_exporter": "python",
   "pygments_lexer": "ipython3",
   "version": "3.13.5"
  }
 },
 "nbformat": 4,
 "nbformat_minor": 5
}
