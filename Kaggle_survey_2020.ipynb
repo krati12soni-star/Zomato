{
 "cells": [
  {
   "cell_type": "code",
   "execution_count": null,
   "id": "4ec81138",
   "metadata": {},
   "outputs": [],
   "source": [
    "import pandas as pd\n",
    "import seaborn as sns\n",
    "import matplotlib.pyplot as plt\n",
    "import numpy as np\n",
    "import plotly.graph_objects as go\n",
    "import plotly.express as px"
   ]
  },
  {
   "cell_type": "code",
   "execution_count": null,
   "id": "e2c48f51",
   "metadata": {},
   "outputs": [],
   "source": [
    "pd.set_option('display.max_rows', 500)\n",
    "pd.set_option('display.max_columns', 500)\n",
    "print(\"hello\")"
   ]
  },
  {
   "cell_type": "code",
   "execution_count": null,
   "id": "8f729515",
   "metadata": {},
   "outputs": [],
   "source": [
    "df= pd.read_csv(\"F:/python/Datasets/kaggle_survey_2020_responses.csv\")"
   ]
  },
  {
   "cell_type": "code",
   "execution_count": null,
   "id": "bd95e683",
   "metadata": {},
   "outputs": [],
   "source": [
    "df.shape"
   ]
  },
  {
   "cell_type": "code",
   "execution_count": null,
   "id": "5728ec33",
   "metadata": {},
   "outputs": [],
   "source": [
    "df.describe()\n",
    "# df.dtypes"
   ]
  },
  {
   "cell_type": "code",
   "execution_count": null,
   "id": "755eb0ed",
   "metadata": {},
   "outputs": [],
   "source": [
    "df.head()"
   ]
  },
  {
   "cell_type": "markdown",
   "id": "c419c449",
   "metadata": {},
   "source": [
    "lots of null/ unknown values"
   ]
  },
  {
   "cell_type": "markdown",
   "id": "e0277f39",
   "metadata": {},
   "source": [
    "removing the top row(question row)\n",
    "df_fin= df.iloc[1:,:]"
   ]
  },
  {
   "cell_type": "code",
   "execution_count": null,
   "id": "9afb568f",
   "metadata": {},
   "outputs": [],
   "source": [
    "df.isnull().sum()"
   ]
  },
  {
   "cell_type": "code",
   "execution_count": null,
   "id": "1047a1b7",
   "metadata": {},
   "outputs": [],
   "source": [
    "# df['Q10_Part_1']\n",
    "df.columns"
   ]
  },
  {
   "cell_type": "markdown",
   "id": "246c617e",
   "metadata": {},
   "source": [
    "Sub-questions under question"
   ]
  },
  {
   "cell_type": "code",
   "execution_count": null,
   "id": "b41644b9",
   "metadata": {},
   "outputs": [],
   "source": [
    "Quest={}\n",
    "qnums= list(dict.fromkeys([i.split('_')[0] for i in df.columns]))\n",
    "qnums"
   ]
  },
  {
   "cell_type": "markdown",
   "id": "22dca19b",
   "metadata": {},
   "source": [
    "### **Adding all the questions of one type in one variable**\n",
    "\n",
    "ex- Q1=Q1_A,  Q3= Q3_part_23 etc."
   ]
  },
  {
   "cell_type": "code",
   "execution_count": null,
   "id": "b71ad492",
   "metadata": {},
   "outputs": [],
   "source": [
    "# add data for each question to key value pairs in dictionary\n",
    "for i in qnums:\n",
    "    if i in ['Q1','Q2','Q3']:\n",
    "        Quest[i]=df[i]\n",
    "        # print(Quest[i])\n",
    "    else:\n",
    "        Quest[i]= df[[q for q in df.columns if q.startswith(f\"{i}_\")]]"
   ]
  },
  {
   "cell_type": "code",
   "execution_count": null,
   "id": "b98f5566",
   "metadata": {},
   "outputs": [],
   "source": [
    "df.Q1"
   ]
  },
  {
   "cell_type": "markdown",
   "id": "0897e4ab",
   "metadata": {},
   "source": [
    "### **Age v/s Count plot**"
   ]
  },
  {
   "cell_type": "code",
   "execution_count": null,
   "id": "4dc51810",
   "metadata": {},
   "outputs": [],
   "source": [
    "#Q1= Age, histogram using px\n",
    "fig= px.histogram(df, x='Q1')\n",
    "fig.show()"
   ]
  },
  {
   "cell_type": "markdown",
   "id": "2466cac3",
   "metadata": {},
   "source": [
    "### **Language v/s Count**"
   ]
  },
  {
   "cell_type": "code",
   "execution_count": null,
   "id": "f158aa46",
   "metadata": {},
   "outputs": [],
   "source": [
    "# Q7\n",
    "Quest['Q7'].columns= list(Quest['Q7'].mode().values)\n",
    "Quest['Q7']\n",
    "q7= Quest['Q7'].count().reset_index()\n",
    "# q7\n",
    "q7.columns= ['language', 'Count']\n",
    "# q7.columns\n",
    "q7= q7.sort_values('Count', ascending=False)\n",
    "fig= go.Figure([go.Bar(x= q7.language, y= q7.Count)])\n",
    "fig.show()\n",
    "q7.language\n",
    "q7.Count"
   ]
  },
  {
   "cell_type": "markdown",
   "id": "342faaad",
   "metadata": {},
   "source": [
    "People using/knowing python are the highest"
   ]
  },
  {
   "cell_type": "markdown",
   "id": "c09e40d3",
   "metadata": {},
   "source": [
    "### **Finding unique values in Q5(Occupation)**"
   ]
  },
  {
   "cell_type": "code",
   "execution_count": null,
   "id": "86ae1b8e",
   "metadata": {},
   "outputs": [],
   "source": [
    "roles= {}\n",
    "for i in df.Q5.unique():\n",
    "    roles[i]=df[df.Q5==i]\n",
    "roles.keys()"
   ]
  },
  {
   "cell_type": "markdown",
   "id": "7f02fb11",
   "metadata": {},
   "source": [
    "Gives the unique occupation throughout the dataset"
   ]
  },
  {
   "cell_type": "code",
   "execution_count": null,
   "id": "e502279e",
   "metadata": {},
   "outputs": [],
   "source": [
    "roles['Student']"
   ]
  },
  {
   "cell_type": "markdown",
   "id": "f674c398",
   "metadata": {},
   "source": [
    "### Q4(Highest Education)"
   ]
  },
  {
   "cell_type": "code",
   "execution_count": null,
   "id": "588ff796",
   "metadata": {},
   "outputs": [],
   "source": [
    "df.Q4"
   ]
  },
  {
   "cell_type": "code",
   "execution_count": null,
   "id": "0ab31efc",
   "metadata": {},
   "outputs": [],
   "source": [
    "# how does education level vary by role\n",
    "edu= df.Q4.value_counts()"
   ]
  },
  {
   "cell_type": "code",
   "execution_count": null,
   "id": "df2a73cd",
   "metadata": {},
   "outputs": [],
   "source": [
    "fig= go.Figure([go.Bar(x= edu.index, y=edu.values)])\n",
    "fig.show()"
   ]
  },
  {
   "cell_type": "markdown",
   "id": "7c86c4a0",
   "metadata": {},
   "source": [
    "People with Master's degree have highest count"
   ]
  },
  {
   "cell_type": "code",
   "execution_count": null,
   "id": "e3575058",
   "metadata": {},
   "outputs": [],
   "source": [
    "# education for just data scientist\n",
    "ds_edu= roles['Data Scientist'].Q4.value_counts()\n",
    "fig= go.Figure([go.Bar(x= ds_edu.index , y=ds_edu.values)])\n",
    "fig.show()"
   ]
  },
  {
   "cell_type": "markdown",
   "id": "74b950fb",
   "metadata": {},
   "source": [
    "Thus, most 'data scientist' have master's degree."
   ]
  },
  {
   "cell_type": "markdown",
   "id": "efd3322c",
   "metadata": {},
   "source": [
    "### *In this dataset we have arranged the data, found the plots with different columns Thus, getting the deeper understanding of the survey.*"
   ]
  },
  {
   "cell_type": "markdown",
   "id": "719e2e53",
   "metadata": {},
   "source": []
  }
 ],
 "metadata": {
  "kernelspec": {
   "display_name": "Python 3",
   "language": "python",
   "name": "python3"
  },
  "language_info": {
   "codemirror_mode": {
    "name": "ipython",
    "version": 3
   },
   "file_extension": ".py",
   "mimetype": "text/x-python",
   "name": "python",
   "nbconvert_exporter": "python",
   "pygments_lexer": "ipython3",
   "version": "3.13.5"
  }
 },
 "nbformat": 4,
 "nbformat_minor": 5
}
